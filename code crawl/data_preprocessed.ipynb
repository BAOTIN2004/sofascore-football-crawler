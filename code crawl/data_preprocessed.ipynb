{
 "cells": [
  {
   "cell_type": "code",
   "execution_count": 1,
   "id": "f0564b1c",
   "metadata": {},
   "outputs": [],
   "source": [
    "import pandas as pd\n",
    "import re"
   ]
  },
  {
   "cell_type": "code",
   "execution_count": 2,
   "id": "d0d2b625",
   "metadata": {},
   "outputs": [],
   "source": [
    "# === 0. Đọc dữ liệu ===\n",
    "df = pd.read_csv('D:\\\\NAM 3\\\\Ki II\\\\Đồ án II\\\\dataset\\\\CellphoneS.csv', encoding='utf-8')"
   ]
  },
  {
   "cell_type": "code",
   "execution_count": 3,
   "id": "d295346e",
   "metadata": {},
   "outputs": [
    {
     "name": "stdout",
     "output_type": "stream",
     "text": [
      "<class 'pandas.core.frame.DataFrame'>\n",
      "RangeIndex: 388 entries, 0 to 387\n",
      "Data columns (total 18 columns):\n",
      " #   Column                 Non-Null Count  Dtype  \n",
      "---  ------                 --------------  -----  \n",
      " 0   web-scraper-order      388 non-null    object \n",
      " 1   web-scraper-start-url  388 non-null    object \n",
      " 2   link                   388 non-null    object \n",
      " 3   link-href              388 non-null    object \n",
      " 4   title                  388 non-null    object \n",
      " 5   price                  315 non-null    object \n",
      " 6   ratings                249 non-null    object \n",
      " 7   num_rates              249 non-null    float64\n",
      " 8   screen_size            381 non-null    object \n",
      " 9   refresh_rate           286 non-null    object \n",
      " 10  chipset                374 non-null    object \n",
      " 11  GPU                    287 non-null    object \n",
      " 12  sim_slot               350 non-null    object \n",
      " 13  RAM                    351 non-null    object \n",
      " 14  internal_storage       373 non-null    object \n",
      " 15  battery                369 non-null    object \n",
      " 16  operating_system       343 non-null    object \n",
      " 17  type                   368 non-null    object \n",
      "dtypes: float64(1), object(17)\n",
      "memory usage: 54.7+ KB\n"
     ]
    }
   ],
   "source": [
    "df.info()"
   ]
  },
  {
   "cell_type": "code",
   "execution_count": 3,
   "id": "290b6bc2",
   "metadata": {},
   "outputs": [],
   "source": [
    "# === 1. Xóa các cột không cần thiết nếu có ===\n",
    "columns_to_drop = [\n",
    "    'web-scraper-order', 'web-scraper-start-url',\n",
    "    'link', 'link-href', 'type'\n",
    "]\n",
    "df = df.drop(columns=[col for col in columns_to_drop if col in df.columns], errors='ignore')"
   ]
  },
  {
   "cell_type": "code",
   "execution_count": 4,
   "id": "06735f82",
   "metadata": {},
   "outputs": [],
   "source": [
    "# === 2. Xử lý cột giá (price) ===\n",
    "df['price'] = df['price'].astype(str).str.replace(r'[^\\d]', '', regex=True)\n",
    "df['price'] = pd.to_numeric(df['price'], errors='coerce')"
   ]
  },
  {
   "cell_type": "code",
   "execution_count": 5,
   "id": "b822d65c",
   "metadata": {},
   "outputs": [],
   "source": [
    "# === 3. Hàm trích số từ chuỗi ===\n",
    "def extract_number(x):\n",
    "    if pd.isnull(x): return None\n",
    "    x = str(x).replace(',', '')\n",
    "    match = re.search(r'(\\d+)', x)\n",
    "    return int(match.group(1)) if match else None"
   ]
  },
  {
   "cell_type": "code",
   "execution_count": 6,
   "id": "eb4aa452",
   "metadata": {},
   "outputs": [],
   "source": [
    "# === 4. Áp dụng cho RAM, internal_storage, battery ===\n",
    "for col in ['RAM', 'internal_storage', 'battery']:\n",
    "    if col in df.columns:\n",
    "        df[col] = df[col].apply(extract_number)"
   ]
  },
  {
   "cell_type": "code",
   "execution_count": 7,
   "id": "df21d13f",
   "metadata": {},
   "outputs": [],
   "source": [
    "# === 5. Xử lý ratings: '4.5/5' → 4.5\n",
    "if 'ratings' in df.columns:\n",
    "    df['ratings'] = df['ratings'].astype(str).str.extract(r'([\\d.]+)')\n",
    "    df['ratings'] = pd.to_numeric(df['ratings'], errors='coerce')"
   ]
  },
  {
   "cell_type": "code",
   "execution_count": 8,
   "id": "aee99fa6",
   "metadata": {},
   "outputs": [],
   "source": [
    "# === 6. Xử lý refresh_rate: trích số Hz từ chuỗi\n",
    "def extract_refresh_rate(x):\n",
    "    match = re.search(r'(\\d{2,3})\\s*Hz', str(x))\n",
    "    if match:\n",
    "        return int(match.group(1))\n",
    "    return None"
   ]
  },
  {
   "cell_type": "code",
   "execution_count": 9,
   "id": "38c0bf98",
   "metadata": {},
   "outputs": [],
   "source": [
    "if 'refresh_rate' in df.columns:\n",
    "    df['refresh_rate'] = df['refresh_rate'].apply(extract_refresh_rate)"
   ]
  },
  {
   "cell_type": "code",
   "execution_count": 10,
   "id": "811bcb94",
   "metadata": {},
   "outputs": [],
   "source": [
    "# === 7. Loại bỏ dòng không có giá\n",
    "df = df.dropna(subset=['price'])"
   ]
  },
  {
   "cell_type": "code",
   "execution_count": 11,
   "id": "7fc69f24",
   "metadata": {},
   "outputs": [],
   "source": [
    "# === 8. Điền median cho các cột số ===\n",
    "numeric_cols = ['num_rates', 'RAM', 'internal_storage', 'battery', 'refresh_rate']\n",
    "for col in numeric_cols:\n",
    "    if col in df.columns:\n",
    "        median_val = df[col].median()\n",
    "        df[col] = df[col].fillna(median_val)"
   ]
  },
  {
   "cell_type": "code",
   "execution_count": 12,
   "id": "2b3d4495",
   "metadata": {},
   "outputs": [],
   "source": [
    "# === 9. Điền mode cho các cột phân loại ===\n",
    "categorical_cols = ['ratings', 'screen_size', 'chipset', 'GPU', 'sim_slot', 'operating_system']\n",
    "for col in categorical_cols:\n",
    "    if col in df.columns:\n",
    "        if df[col].isnull().any():\n",
    "            df[col] = df[col].fillna(df[col].mode()[0])"
   ]
  },
  {
   "cell_type": "code",
   "execution_count": 13,
   "id": "8c39777c",
   "metadata": {},
   "outputs": [],
   "source": [
    "def simplify_os(os_name):\n",
    "    os_name = os_name.lower()\n",
    "    if \"android\" in os_name:\n",
    "        return \"Android\"\n",
    "    elif \"ios\" in os_name:\n",
    "        return \"iOS\"\n",
    "    elif \"s30\" in os_name:\n",
    "        return \"S30+\"\n",
    "    else:\n",
    "        return \"Khác\"\n",
    "\n",
    "df['operating_system'] = df['operating_system'].apply(simplify_os)\n"
   ]
  },
  {
   "cell_type": "code",
   "execution_count": 16,
   "id": "20f779bd",
   "metadata": {},
   "outputs": [],
   "source": [
    "# === 10. Xuất file Excel\n",
    "df.to_csv('du_lieu_da_xu_ly.csv', index=False,encoding='utf-8-sig')"
   ]
  },
  {
   "cell_type": "code",
   "execution_count": 15,
   "id": "a4f9cc5e",
   "metadata": {},
   "outputs": [
    {
     "name": "stdout",
     "output_type": "stream",
     "text": [
      "✅ Dữ liệu đã xử lý xong và lưu vào 'du_lieu_da_xu_ly.xlsx'\n",
      "                         title       price  ratings  num_rates  screen_size  \\\n",
      "1  ASUS ROG Phone 6 12GB 256GB  14490000.0      5.0       20.0  6.78 inches   \n",
      "2          BENCO V91 4GB 128GB   2690000.0      5.0        1.0  6.56 inches   \n",
      "3       Benco S1 Pro 8GB 256GB   4290000.0      5.0       10.0   6.8 inches   \n",
      "5                 INOI 288S 4G   1000000.0      5.0        1.0   2.0 inches   \n",
      "6      INOI Note 13s 8GB 256GB   2790000.0      5.0        2.0  6.95 inches   \n",
      "\n",
      "   refresh_rate                              chipset           GPU  \\\n",
      "1         120.0  Qualcomm ® Snapdragon ® 8+ thế hệ 1  Adreno ™ 730   \n",
      "2          90.0                          Unisoc T606    Adreno 610   \n",
      "3         120.0                          Unisoc T616      Mali-G57   \n",
      "5         120.0                        Apple A18 Pro    Adreno 610   \n",
      "6         120.0                          Unisoc T606    Adreno 610   \n",
      "\n",
      "           sim_slot   RAM  internal_storage  battery operating_system  \n",
      "1  2 SIM (Nano-SIM)  12.0             256.0   6000.0          Android  \n",
      "2  2 SIM (Nano-SIM)   4.0             128.0   5000.0          Android  \n",
      "3  2 SIM (Nano-SIM)   8.0             256.0   5000.0          Android  \n",
      "5  2 SIM (Nano-SIM)   8.0             128.0   1000.0          Android  \n",
      "6  2 SIM (Nano-SIM)   8.0             256.0   5000.0          Android  \n",
      "\n",
      "⚠️ Kiểm tra thiếu giá trị:\n",
      "title               0\n",
      "price               0\n",
      "ratings             0\n",
      "num_rates           0\n",
      "screen_size         0\n",
      "refresh_rate        0\n",
      "chipset             0\n",
      "GPU                 0\n",
      "sim_slot            0\n",
      "RAM                 0\n",
      "internal_storage    0\n",
      "battery             0\n",
      "operating_system    0\n",
      "dtype: int64\n"
     ]
    }
   ],
   "source": [
    "# === 11. In kiểm tra\n",
    "print(\"✅ Dữ liệu đã xử lý xong và lưu vào 'du_lieu_da_xu_ly.xlsx'\")\n",
    "print(df.head())\n",
    "print(\"\\n⚠️ Kiểm tra thiếu giá trị:\")\n",
    "print(df.isnull().sum())"
   ]
  },
  {
   "cell_type": "code",
   "execution_count": null,
   "id": "881d07e4",
   "metadata": {},
   "outputs": [],
   "source": []
  }
 ],
 "metadata": {
  "kernelspec": {
   "display_name": "ML01",
   "language": "python",
   "name": "python3"
  },
  "language_info": {
   "codemirror_mode": {
    "name": "ipython",
    "version": 3
   },
   "file_extension": ".py",
   "mimetype": "text/x-python",
   "name": "python",
   "nbconvert_exporter": "python",
   "pygments_lexer": "ipython3",
   "version": "3.12.9"
  }
 },
 "nbformat": 4,
 "nbformat_minor": 5
}
